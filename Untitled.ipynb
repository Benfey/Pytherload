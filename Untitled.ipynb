{
 "cells": [
  {
   "cell_type": "code",
   "execution_count": 19,
   "metadata": {},
   "outputs": [],
   "source": [
    "import matplotlib.pyplot as plt\n",
    "import numpy\n",
    "from PIL import Image\n",
    "from perlin_numpy import generate_perlin_noise_2d\n",
    "\n",
    "map_size = (4000, 2000)\n",
    "\n",
    "ore_sparseness_modifier = 2 \n",
    "cavern_sparseness_modifier = 16 # Bigger values = fewer, larger caves. Smaller values = more, smaller caves\n",
    "threshold_ore = 0.65\n",
    "threshold_caverns = 0.4\n",
    "\n",
    "sparseness_ore = (map_size[0] / ore_sparseness_modifier, map_size[1] / ore_sparseness_modifier) # Seems to be a good ratio to get pockets of 1-3 ores\n",
    "sparseness_caverns = (map_size[0] / cavern_sparseness_modifier, map_size[1] / cavern_sparseness_modifier) \n",
    "\n",
    "numpy.random.seed()\n",
    "\n",
    "ores = generate_perlin_noise_2d((int(map_size[0]), int(map_size[1])), (int(sparseness_ore[0]), int(sparseness_ore[1])))\n",
    "caverns = generate_perlin_noise_2d((int(map_size[0]), int(map_size[1])), (int(sparseness_caverns[0]), int(sparseness_caverns[1])))\n",
    "\n",
    "for i in range(map_size[0]):\n",
    "    for j in range(map_size[1]):\n",
    "        ores[i][j] = 1 if ores[i][j] < threshold_ore else 0\n",
    "        caverns[i][j] = 0 if caverns[i][j] < threshold_caverns else 1\n",
    "        \n",
    "Image.fromarray((ores * 255).astype('uint8'), mode='L').save('ore.png')\n",
    "Image.fromarray((caverns * 255).astype('uint8'), mode='L').save('cavern.png')\n",
    "\n",
    "# Load land, ore, cavern\n",
    "land = Image.open('land.png').convert(\"RGBA\")\n",
    "ore = Image.open('ore.png').convert(\"RGBA\")\n",
    "cavern = Image.open('cavern.png').convert(\"RGBA\")\n",
    "\n",
    "ore_data = ore.load()\n",
    "cavern_data = cavern.load()\n",
    "\n",
    "width, height = ore.size\n",
    "for y in range(height):\n",
    "    for x in range(width):\n",
    "        if ore_data[x, y] == (255, 255, 255, 255):\n",
    "            ore_data[x, y] = (255, 255, 255, 0)\n",
    "        if cavern_data[x, y] != (255, 255, 255, 255):\n",
    "            cavern_data[x, y] = (255, 255, 255, 0)\n",
    "            \n",
    "land.paste(ore, (0, 0), ore)\n",
    "land.paste(cavern, (0, 0), cavern)\n",
    "land.save(\"map.png\")"
   ]
  },
  {
   "cell_type": "code",
   "execution_count": null,
   "metadata": {},
   "outputs": [],
   "source": []
  }
 ],
 "metadata": {
  "kernelspec": {
   "display_name": "Python 3",
   "language": "python",
   "name": "python3"
  },
  "language_info": {
   "codemirror_mode": {
    "name": "ipython",
    "version": 3
   },
   "file_extension": ".py",
   "mimetype": "text/x-python",
   "name": "python",
   "nbconvert_exporter": "python",
   "pygments_lexer": "ipython3",
   "version": "3.8.6"
  }
 },
 "nbformat": 4,
 "nbformat_minor": 4
}
